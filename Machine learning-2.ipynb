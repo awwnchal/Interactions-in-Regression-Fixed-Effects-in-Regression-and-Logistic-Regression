{
 "cells": [
  {
   "cell_type": "code",
   "execution_count": 289,
   "id": "c1daa8d1",
   "metadata": {},
   "outputs": [],
   "source": [
    "import pandas as pd\n",
    "import numpy as np\n",
    "import matplotlib.pyplot as plt\n",
    "import seaborn as sns\n",
    "from sklearn.model_selection import train_test_split\n",
    "from sklearn.preprocessing import RobustScaler\n",
    "from sklearn.metrics import confusion_matrix, classification_report"
   ]
  },
  {
   "cell_type": "markdown",
   "id": "7e0be608",
   "metadata": {},
   "source": [
    "# 1. Using the sales.csv Download sales.csv, write code to show effects of interactions, if any, on  the linear regression model to predict the total_sales for a new area using given sales from three areas."
   ]
  },
  {
   "cell_type": "code",
   "execution_count": 230,
   "id": "e675d6b4",
   "metadata": {},
   "outputs": [],
   "source": [
    "df = pd.read_csv(\"/Users/anchalchaudhary/Downloads/sales.csv\")"
   ]
  },
  {
   "cell_type": "code",
   "execution_count": 231,
   "id": "c70f2c64",
   "metadata": {},
   "outputs": [
    {
     "data": {
      "text/html": [
       "<div>\n",
       "<style scoped>\n",
       "    .dataframe tbody tr th:only-of-type {\n",
       "        vertical-align: middle;\n",
       "    }\n",
       "\n",
       "    .dataframe tbody tr th {\n",
       "        vertical-align: top;\n",
       "    }\n",
       "\n",
       "    .dataframe thead th {\n",
       "        text-align: right;\n",
       "    }\n",
       "</style>\n",
       "<table border=\"1\" class=\"dataframe\">\n",
       "  <thead>\n",
       "    <tr style=\"text-align: right;\">\n",
       "      <th></th>\n",
       "      <th>Unnamed: 0</th>\n",
       "      <th>area1_sales</th>\n",
       "      <th>area2_sales</th>\n",
       "      <th>area3_sales</th>\n",
       "      <th>total_sales</th>\n",
       "    </tr>\n",
       "  </thead>\n",
       "  <tbody>\n",
       "    <tr>\n",
       "      <th>0</th>\n",
       "      <td>1000</td>\n",
       "      <td>0.79</td>\n",
       "      <td>0.80</td>\n",
       "      <td>0.02</td>\n",
       "      <td>1.75</td>\n",
       "    </tr>\n",
       "    <tr>\n",
       "      <th>1</th>\n",
       "      <td>1001</td>\n",
       "      <td>0.83</td>\n",
       "      <td>0.08</td>\n",
       "      <td>0.18</td>\n",
       "      <td>1.75</td>\n",
       "    </tr>\n",
       "    <tr>\n",
       "      <th>2</th>\n",
       "      <td>1002</td>\n",
       "      <td>0.85</td>\n",
       "      <td>0.01</td>\n",
       "      <td>0.22</td>\n",
       "      <td>1.75</td>\n",
       "    </tr>\n",
       "    <tr>\n",
       "      <th>3</th>\n",
       "      <td>1003</td>\n",
       "      <td>1.25</td>\n",
       "      <td>0.00</td>\n",
       "      <td>0.03</td>\n",
       "      <td>1.75</td>\n",
       "    </tr>\n",
       "    <tr>\n",
       "      <th>4</th>\n",
       "      <td>1004</td>\n",
       "      <td>0.72</td>\n",
       "      <td>0.04</td>\n",
       "      <td>0.10</td>\n",
       "      <td>1.74</td>\n",
       "    </tr>\n",
       "  </tbody>\n",
       "</table>\n",
       "</div>"
      ],
      "text/plain": [
       "   Unnamed: 0  area1_sales  area2_sales  area3_sales  total_sales\n",
       "0        1000         0.79         0.80         0.02         1.75\n",
       "1        1001         0.83         0.08         0.18         1.75\n",
       "2        1002         0.85         0.01         0.22         1.75\n",
       "3        1003         1.25         0.00         0.03         1.75\n",
       "4        1004         0.72         0.04         0.10         1.74"
      ]
     },
     "execution_count": 231,
     "metadata": {},
     "output_type": "execute_result"
    }
   ],
   "source": [
    "df.head()"
   ]
  },
  {
   "cell_type": "code",
   "execution_count": 232,
   "id": "5c765b98",
   "metadata": {},
   "outputs": [
    {
     "data": {
      "text/html": [
       "<div>\n",
       "<style scoped>\n",
       "    .dataframe tbody tr th:only-of-type {\n",
       "        vertical-align: middle;\n",
       "    }\n",
       "\n",
       "    .dataframe tbody tr th {\n",
       "        vertical-align: top;\n",
       "    }\n",
       "\n",
       "    .dataframe thead th {\n",
       "        text-align: right;\n",
       "    }\n",
       "</style>\n",
       "<table border=\"1\" class=\"dataframe\">\n",
       "  <thead>\n",
       "    <tr style=\"text-align: right;\">\n",
       "      <th></th>\n",
       "      <th>Unnamed: 0</th>\n",
       "      <th>area1_sales</th>\n",
       "      <th>area2_sales</th>\n",
       "      <th>area3_sales</th>\n",
       "      <th>total_sales</th>\n",
       "      <th>interaction1_2</th>\n",
       "      <th>interaction1_3</th>\n",
       "      <th>interaction2_3</th>\n",
       "      <th>interaction1_2_3</th>\n",
       "    </tr>\n",
       "  </thead>\n",
       "  <tbody>\n",
       "    <tr>\n",
       "      <th>0</th>\n",
       "      <td>1000</td>\n",
       "      <td>0.79</td>\n",
       "      <td>0.80</td>\n",
       "      <td>0.02</td>\n",
       "      <td>1.75</td>\n",
       "      <td>0.6320</td>\n",
       "      <td>0.0158</td>\n",
       "      <td>0.0160</td>\n",
       "      <td>0.012640</td>\n",
       "    </tr>\n",
       "    <tr>\n",
       "      <th>1</th>\n",
       "      <td>1001</td>\n",
       "      <td>0.83</td>\n",
       "      <td>0.08</td>\n",
       "      <td>0.18</td>\n",
       "      <td>1.75</td>\n",
       "      <td>0.0664</td>\n",
       "      <td>0.1494</td>\n",
       "      <td>0.0144</td>\n",
       "      <td>0.011952</td>\n",
       "    </tr>\n",
       "    <tr>\n",
       "      <th>2</th>\n",
       "      <td>1002</td>\n",
       "      <td>0.85</td>\n",
       "      <td>0.01</td>\n",
       "      <td>0.22</td>\n",
       "      <td>1.75</td>\n",
       "      <td>0.0085</td>\n",
       "      <td>0.1870</td>\n",
       "      <td>0.0022</td>\n",
       "      <td>0.001870</td>\n",
       "    </tr>\n",
       "    <tr>\n",
       "      <th>3</th>\n",
       "      <td>1003</td>\n",
       "      <td>1.25</td>\n",
       "      <td>0.00</td>\n",
       "      <td>0.03</td>\n",
       "      <td>1.75</td>\n",
       "      <td>0.0000</td>\n",
       "      <td>0.0375</td>\n",
       "      <td>0.0000</td>\n",
       "      <td>0.000000</td>\n",
       "    </tr>\n",
       "    <tr>\n",
       "      <th>4</th>\n",
       "      <td>1004</td>\n",
       "      <td>0.72</td>\n",
       "      <td>0.04</td>\n",
       "      <td>0.10</td>\n",
       "      <td>1.74</td>\n",
       "      <td>0.0288</td>\n",
       "      <td>0.0720</td>\n",
       "      <td>0.0040</td>\n",
       "      <td>0.002880</td>\n",
       "    </tr>\n",
       "    <tr>\n",
       "      <th>...</th>\n",
       "      <td>...</td>\n",
       "      <td>...</td>\n",
       "      <td>...</td>\n",
       "      <td>...</td>\n",
       "      <td>...</td>\n",
       "      <td>...</td>\n",
       "      <td>...</td>\n",
       "      <td>...</td>\n",
       "      <td>...</td>\n",
       "    </tr>\n",
       "    <tr>\n",
       "      <th>2995</th>\n",
       "      <td>3995</td>\n",
       "      <td>0.20</td>\n",
       "      <td>0.00</td>\n",
       "      <td>0.07</td>\n",
       "      <td>0.49</td>\n",
       "      <td>0.0000</td>\n",
       "      <td>0.0140</td>\n",
       "      <td>0.0000</td>\n",
       "      <td>0.000000</td>\n",
       "    </tr>\n",
       "    <tr>\n",
       "      <th>2996</th>\n",
       "      <td>3996</td>\n",
       "      <td>0.28</td>\n",
       "      <td>0.00</td>\n",
       "      <td>0.04</td>\n",
       "      <td>0.49</td>\n",
       "      <td>0.0000</td>\n",
       "      <td>0.0112</td>\n",
       "      <td>0.0000</td>\n",
       "      <td>0.000000</td>\n",
       "    </tr>\n",
       "    <tr>\n",
       "      <th>2997</th>\n",
       "      <td>3997</td>\n",
       "      <td>0.00</td>\n",
       "      <td>0.49</td>\n",
       "      <td>0.00</td>\n",
       "      <td>0.49</td>\n",
       "      <td>0.0000</td>\n",
       "      <td>0.0000</td>\n",
       "      <td>0.0000</td>\n",
       "      <td>0.000000</td>\n",
       "    </tr>\n",
       "    <tr>\n",
       "      <th>2998</th>\n",
       "      <td>3998</td>\n",
       "      <td>0.07</td>\n",
       "      <td>0.09</td>\n",
       "      <td>0.07</td>\n",
       "      <td>0.49</td>\n",
       "      <td>0.0063</td>\n",
       "      <td>0.0049</td>\n",
       "      <td>0.0063</td>\n",
       "      <td>0.000441</td>\n",
       "    </tr>\n",
       "    <tr>\n",
       "      <th>2999</th>\n",
       "      <td>3999</td>\n",
       "      <td>0.24</td>\n",
       "      <td>0.00</td>\n",
       "      <td>0.06</td>\n",
       "      <td>0.49</td>\n",
       "      <td>0.0000</td>\n",
       "      <td>0.0144</td>\n",
       "      <td>0.0000</td>\n",
       "      <td>0.000000</td>\n",
       "    </tr>\n",
       "  </tbody>\n",
       "</table>\n",
       "<p>3000 rows × 9 columns</p>\n",
       "</div>"
      ],
      "text/plain": [
       "      Unnamed: 0  area1_sales  area2_sales  area3_sales  total_sales  \\\n",
       "0           1000         0.79         0.80         0.02         1.75   \n",
       "1           1001         0.83         0.08         0.18         1.75   \n",
       "2           1002         0.85         0.01         0.22         1.75   \n",
       "3           1003         1.25         0.00         0.03         1.75   \n",
       "4           1004         0.72         0.04         0.10         1.74   \n",
       "...          ...          ...          ...          ...          ...   \n",
       "2995        3995         0.20         0.00         0.07         0.49   \n",
       "2996        3996         0.28         0.00         0.04         0.49   \n",
       "2997        3997         0.00         0.49         0.00         0.49   \n",
       "2998        3998         0.07         0.09         0.07         0.49   \n",
       "2999        3999         0.24         0.00         0.06         0.49   \n",
       "\n",
       "      interaction1_2  interaction1_3  interaction2_3  interaction1_2_3  \n",
       "0             0.6320          0.0158          0.0160          0.012640  \n",
       "1             0.0664          0.1494          0.0144          0.011952  \n",
       "2             0.0085          0.1870          0.0022          0.001870  \n",
       "3             0.0000          0.0375          0.0000          0.000000  \n",
       "4             0.0288          0.0720          0.0040          0.002880  \n",
       "...              ...             ...             ...               ...  \n",
       "2995          0.0000          0.0140          0.0000          0.000000  \n",
       "2996          0.0000          0.0112          0.0000          0.000000  \n",
       "2997          0.0000          0.0000          0.0000          0.000000  \n",
       "2998          0.0063          0.0049          0.0063          0.000441  \n",
       "2999          0.0000          0.0144          0.0000          0.000000  \n",
       "\n",
       "[3000 rows x 9 columns]"
      ]
     },
     "execution_count": 232,
     "metadata": {},
     "output_type": "execute_result"
    }
   ],
   "source": [
    "## create all interaction terms\n",
    "df['interaction1_2'] = df['area1_sales']*df['area2_sales']\n",
    "df['interaction1_3'] = df['area1_sales']*df['area3_sales']\n",
    "df['interaction2_3'] = df['area2_sales']*df['area3_sales']\n",
    "df['interaction1_2_3'] = df['area1_sales']*df['area2_sales']*df['area3_sales']\n",
    "## display the dataframe with all the interaction terms\n",
    "df"
   ]
  },
  {
   "cell_type": "code",
   "execution_count": 234,
   "id": "4a515751",
   "metadata": {},
   "outputs": [],
   "source": [
    "## define x as all the interaction terms\n",
    "x = df[['area1_sales', 'area2_sales', 'area3_sales', 'interaction1_2', 'interaction1_3', 'interaction2_3', 'interaction1_2_3']]\n",
    "## define y as total_sales\n",
    "y = df['total_sales']"
   ]
  },
  {
   "cell_type": "code",
   "execution_count": 238,
   "id": "0d378032",
   "metadata": {},
   "outputs": [
    {
     "name": "stdout",
     "output_type": "stream",
     "text": [
      "R_squared:0.7155641658804521\n",
      "     \n",
      "intercept:0.31190282196595975\n",
      "      \n",
      "coefficients:[0.78521538 0.65175282 1.2583009  0.19907558 1.08891546 0.19940098\n",
      " 5.30776246]\n"
     ]
    }
   ],
   "source": [
    "# build the linear regression model with x and y, then fit the regression model\n",
    "from sklearn.linear_model import LinearRegression\n",
    "reg=LinearRegression().fit(x, y)\n",
    "print(f\"R_squared:{reg.score(x, y)}\") ## R_sqaured value\n",
    "print(\"     \")\n",
    "print(f\"intercept:{reg.intercept_}\")## intercept of the linear model\n",
    "print(\"      \")\n",
    "print(f\"coefficients:{reg.coef_}\")   ## coefficients of each variables"
   ]
  },
  {
   "cell_type": "code",
   "execution_count": 239,
   "id": "4a007fc8",
   "metadata": {},
   "outputs": [
    {
     "name": "stdout",
     "output_type": "stream",
     "text": [
      "                            OLS Regression Results                            \n",
      "==============================================================================\n",
      "Dep. Variable:            total_sales   R-squared:                       0.716\n",
      "Model:                            OLS   Adj. R-squared:                  0.715\n",
      "Method:                 Least Squares   F-statistic:                     1075.\n",
      "Date:                Sun, 22 Jan 2023   Prob (F-statistic):               0.00\n",
      "Time:                        15:03:51   Log-Likelihood:                 830.59\n",
      "No. Observations:                3000   AIC:                            -1645.\n",
      "Df Residuals:                    2992   BIC:                            -1597.\n",
      "Df Model:                           7                                         \n",
      "Covariance Type:            nonrobust                                         \n",
      "====================================================================================\n",
      "                       coef    std err          t      P>|t|      [0.025      0.975]\n",
      "------------------------------------------------------------------------------------\n",
      "const                0.3119      0.010     32.077      0.000       0.293       0.331\n",
      "area1_sales          0.7852      0.018     42.656      0.000       0.749       0.821\n",
      "area2_sales          0.6518      0.020     33.057      0.000       0.613       0.690\n",
      "area3_sales          1.2583      0.065     19.447      0.000       1.131       1.385\n",
      "interaction1_2       0.1991      0.091      2.188      0.029       0.021       0.377\n",
      "interaction1_3       1.0889      0.144      7.550      0.000       0.806       1.372\n",
      "interaction2_3       0.1994      0.458      0.436      0.663      -0.698       1.097\n",
      "interaction1_2_3     5.3078      1.461      3.634      0.000       2.444       8.172\n",
      "==============================================================================\n",
      "Omnibus:                      550.091   Durbin-Watson:                   1.453\n",
      "Prob(Omnibus):                  0.000   Jarque-Bera (JB):             2499.463\n",
      "Skew:                           0.815   Prob(JB):                         0.00\n",
      "Kurtosis:                       7.164   Cond. No.                         496.\n",
      "==============================================================================\n",
      "\n",
      "Notes:\n",
      "[1] Standard Errors assume that the covariance matrix of the errors is correctly specified.\n"
     ]
    }
   ],
   "source": [
    "#output summary table\n",
    "import statsmodels.api as sm\n",
    "x = sm.add_constant(x)\n",
    "model = sm.OLS(y,x).fit()\n",
    "print(model.summary())"
   ]
  },
  {
   "cell_type": "code",
   "execution_count": null,
   "id": "6a600893",
   "metadata": {},
   "outputs": [],
   "source": [
    "# Linear regression model:total_sales = 0.3119028219659594 + 0.785215*area1_sales + 0.651753*area2_sales + 1.258301*area3_sales + 0.199076*interaction1_2 + 1.088915*interaction1_3 + 0.199401*interaction2_3 + 5.307762*interaction1_2_3\n",
    "\n",
    "# From the linear regression model, I include the interaction of area1_sales and area2_sales, area1_sales and area3_sales, area2_sales and area3_sales, area1_sales and area2_sales and area3_sales. We can see the effect of interaction term based on the coefficients. The coefficient of interaction1_2_3 is highest, 5.307, giving the largest effects for the total sales.\n",
    "\n",
    "# The R-squared value of the linear regression model is 0.7155, which means 71.55% of the variation in the response variable can be explained by the predictor variables in this linear regression model."
   ]
  },
  {
   "cell_type": "markdown",
   "id": "59bad76c",
   "metadata": {},
   "source": [
    "# 2. Develop a full Logistic Regression Model using customer.csv . Download customer.csv to predict whether the customer will purchase the product. Also train trimmed logistic regression models (Trimmed over features in the data). Compute the \"in-sample R2\" (pseudo) for the models you train and compare the models based on this metric."
   ]
  },
  {
   "cell_type": "code",
   "execution_count": 178,
   "id": "73956bcb",
   "metadata": {},
   "outputs": [],
   "source": [
    "cust = pd.read_csv(\"/Users/anchalchaudhary/Downloads/customer.csv\")"
   ]
  },
  {
   "cell_type": "code",
   "execution_count": 179,
   "id": "76de6198",
   "metadata": {},
   "outputs": [
    {
     "data": {
      "text/html": [
       "<div>\n",
       "<style scoped>\n",
       "    .dataframe tbody tr th:only-of-type {\n",
       "        vertical-align: middle;\n",
       "    }\n",
       "\n",
       "    .dataframe tbody tr th {\n",
       "        vertical-align: top;\n",
       "    }\n",
       "\n",
       "    .dataframe thead th {\n",
       "        text-align: right;\n",
       "    }\n",
       "</style>\n",
       "<table border=\"1\" class=\"dataframe\">\n",
       "  <thead>\n",
       "    <tr style=\"text-align: right;\">\n",
       "      <th></th>\n",
       "      <th>User ID</th>\n",
       "      <th>Gender</th>\n",
       "      <th>Age</th>\n",
       "      <th>EstimatedSalary</th>\n",
       "      <th>Purchased</th>\n",
       "    </tr>\n",
       "  </thead>\n",
       "  <tbody>\n",
       "    <tr>\n",
       "      <th>0</th>\n",
       "      <td>15624510</td>\n",
       "      <td>Male</td>\n",
       "      <td>19</td>\n",
       "      <td>19000</td>\n",
       "      <td>0</td>\n",
       "    </tr>\n",
       "    <tr>\n",
       "      <th>1</th>\n",
       "      <td>15810944</td>\n",
       "      <td>Male</td>\n",
       "      <td>35</td>\n",
       "      <td>20000</td>\n",
       "      <td>0</td>\n",
       "    </tr>\n",
       "    <tr>\n",
       "      <th>2</th>\n",
       "      <td>15668575</td>\n",
       "      <td>Female</td>\n",
       "      <td>26</td>\n",
       "      <td>43000</td>\n",
       "      <td>0</td>\n",
       "    </tr>\n",
       "    <tr>\n",
       "      <th>3</th>\n",
       "      <td>15603246</td>\n",
       "      <td>Female</td>\n",
       "      <td>27</td>\n",
       "      <td>57000</td>\n",
       "      <td>0</td>\n",
       "    </tr>\n",
       "    <tr>\n",
       "      <th>4</th>\n",
       "      <td>15804002</td>\n",
       "      <td>Male</td>\n",
       "      <td>19</td>\n",
       "      <td>76000</td>\n",
       "      <td>0</td>\n",
       "    </tr>\n",
       "  </tbody>\n",
       "</table>\n",
       "</div>"
      ],
      "text/plain": [
       "    User ID  Gender  Age  EstimatedSalary  Purchased\n",
       "0  15624510    Male   19            19000          0\n",
       "1  15810944    Male   35            20000          0\n",
       "2  15668575  Female   26            43000          0\n",
       "3  15603246  Female   27            57000          0\n",
       "4  15804002    Male   19            76000          0"
      ]
     },
     "execution_count": 179,
     "metadata": {},
     "output_type": "execute_result"
    }
   ],
   "source": [
    "cust.head()\n",
    "#label encoded"
   ]
  },
  {
   "cell_type": "code",
   "execution_count": 180,
   "id": "45c8f795",
   "metadata": {},
   "outputs": [
    {
     "data": {
      "text/plain": [
       "User ID            0\n",
       "Gender             0\n",
       "Age                0\n",
       "EstimatedSalary    0\n",
       "Purchased          0\n",
       "dtype: int64"
      ]
     },
     "execution_count": 180,
     "metadata": {},
     "output_type": "execute_result"
    }
   ],
   "source": [
    "cust.isnull().sum() #no nulls"
   ]
  },
  {
   "cell_type": "code",
   "execution_count": 181,
   "id": "d75fc814",
   "metadata": {},
   "outputs": [
    {
     "data": {
      "text/html": [
       "<div>\n",
       "<style scoped>\n",
       "    .dataframe tbody tr th:only-of-type {\n",
       "        vertical-align: middle;\n",
       "    }\n",
       "\n",
       "    .dataframe tbody tr th {\n",
       "        vertical-align: top;\n",
       "    }\n",
       "\n",
       "    .dataframe thead th {\n",
       "        text-align: right;\n",
       "    }\n",
       "</style>\n",
       "<table border=\"1\" class=\"dataframe\">\n",
       "  <thead>\n",
       "    <tr style=\"text-align: right;\">\n",
       "      <th></th>\n",
       "      <th>User ID</th>\n",
       "      <th>Age</th>\n",
       "      <th>EstimatedSalary</th>\n",
       "      <th>Purchased</th>\n",
       "    </tr>\n",
       "  </thead>\n",
       "  <tbody>\n",
       "    <tr>\n",
       "      <th>count</th>\n",
       "      <td>4.000000e+02</td>\n",
       "      <td>400.000000</td>\n",
       "      <td>400.000000</td>\n",
       "      <td>400.000000</td>\n",
       "    </tr>\n",
       "    <tr>\n",
       "      <th>mean</th>\n",
       "      <td>1.569154e+07</td>\n",
       "      <td>37.655000</td>\n",
       "      <td>69742.500000</td>\n",
       "      <td>0.357500</td>\n",
       "    </tr>\n",
       "    <tr>\n",
       "      <th>std</th>\n",
       "      <td>7.165832e+04</td>\n",
       "      <td>10.482877</td>\n",
       "      <td>34096.960282</td>\n",
       "      <td>0.479864</td>\n",
       "    </tr>\n",
       "    <tr>\n",
       "      <th>min</th>\n",
       "      <td>1.556669e+07</td>\n",
       "      <td>18.000000</td>\n",
       "      <td>15000.000000</td>\n",
       "      <td>0.000000</td>\n",
       "    </tr>\n",
       "    <tr>\n",
       "      <th>25%</th>\n",
       "      <td>1.562676e+07</td>\n",
       "      <td>29.750000</td>\n",
       "      <td>43000.000000</td>\n",
       "      <td>0.000000</td>\n",
       "    </tr>\n",
       "    <tr>\n",
       "      <th>50%</th>\n",
       "      <td>1.569434e+07</td>\n",
       "      <td>37.000000</td>\n",
       "      <td>70000.000000</td>\n",
       "      <td>0.000000</td>\n",
       "    </tr>\n",
       "    <tr>\n",
       "      <th>75%</th>\n",
       "      <td>1.575036e+07</td>\n",
       "      <td>46.000000</td>\n",
       "      <td>88000.000000</td>\n",
       "      <td>1.000000</td>\n",
       "    </tr>\n",
       "    <tr>\n",
       "      <th>max</th>\n",
       "      <td>1.581524e+07</td>\n",
       "      <td>60.000000</td>\n",
       "      <td>150000.000000</td>\n",
       "      <td>1.000000</td>\n",
       "    </tr>\n",
       "  </tbody>\n",
       "</table>\n",
       "</div>"
      ],
      "text/plain": [
       "            User ID         Age  EstimatedSalary   Purchased\n",
       "count  4.000000e+02  400.000000       400.000000  400.000000\n",
       "mean   1.569154e+07   37.655000     69742.500000    0.357500\n",
       "std    7.165832e+04   10.482877     34096.960282    0.479864\n",
       "min    1.556669e+07   18.000000     15000.000000    0.000000\n",
       "25%    1.562676e+07   29.750000     43000.000000    0.000000\n",
       "50%    1.569434e+07   37.000000     70000.000000    0.000000\n",
       "75%    1.575036e+07   46.000000     88000.000000    1.000000\n",
       "max    1.581524e+07   60.000000    150000.000000    1.000000"
      ]
     },
     "execution_count": 181,
     "metadata": {},
     "output_type": "execute_result"
    }
   ],
   "source": [
    "cust.describe()"
   ]
  },
  {
   "cell_type": "code",
   "execution_count": 18,
   "id": "464f4e70",
   "metadata": {},
   "outputs": [
    {
     "data": {
      "text/plain": [
       "(400, 5)"
      ]
     },
     "execution_count": 18,
     "metadata": {},
     "output_type": "execute_result"
    }
   ],
   "source": [
    "cust.shape"
   ]
  },
  {
   "cell_type": "code",
   "execution_count": 128,
   "id": "c2ef098a",
   "metadata": {},
   "outputs": [],
   "source": [
    "import sklearn.linear_model"
   ]
  },
  {
   "cell_type": "code",
   "execution_count": 129,
   "id": "aa52c88d",
   "metadata": {},
   "outputs": [],
   "source": [
    "from sklearn.linear_model import LogisticRegression"
   ]
  },
  {
   "cell_type": "code",
   "execution_count": 130,
   "id": "cab1ece2",
   "metadata": {},
   "outputs": [],
   "source": [
    "from sklearn.preprocessing import LabelEncoder"
   ]
  },
  {
   "cell_type": "code",
   "execution_count": 182,
   "id": "f716f5d2",
   "metadata": {},
   "outputs": [],
   "source": [
    "cust['Gender']= LabelEncoder().fit_transform(cust['Gender'])\n",
    "#male - 1\n",
    "#female - 0"
   ]
  },
  {
   "cell_type": "code",
   "execution_count": 241,
   "id": "54ff81b5",
   "metadata": {},
   "outputs": [
    {
     "data": {
      "text/html": [
       "<div>\n",
       "<style scoped>\n",
       "    .dataframe tbody tr th:only-of-type {\n",
       "        vertical-align: middle;\n",
       "    }\n",
       "\n",
       "    .dataframe tbody tr th {\n",
       "        vertical-align: top;\n",
       "    }\n",
       "\n",
       "    .dataframe thead th {\n",
       "        text-align: right;\n",
       "    }\n",
       "</style>\n",
       "<table border=\"1\" class=\"dataframe\">\n",
       "  <thead>\n",
       "    <tr style=\"text-align: right;\">\n",
       "      <th></th>\n",
       "      <th>User ID</th>\n",
       "      <th>Gender</th>\n",
       "      <th>Age</th>\n",
       "      <th>EstimatedSalary</th>\n",
       "      <th>Purchased</th>\n",
       "    </tr>\n",
       "  </thead>\n",
       "  <tbody>\n",
       "    <tr>\n",
       "      <th>0</th>\n",
       "      <td>15624510</td>\n",
       "      <td>1</td>\n",
       "      <td>19</td>\n",
       "      <td>19000</td>\n",
       "      <td>0</td>\n",
       "    </tr>\n",
       "    <tr>\n",
       "      <th>1</th>\n",
       "      <td>15810944</td>\n",
       "      <td>1</td>\n",
       "      <td>35</td>\n",
       "      <td>20000</td>\n",
       "      <td>0</td>\n",
       "    </tr>\n",
       "    <tr>\n",
       "      <th>2</th>\n",
       "      <td>15668575</td>\n",
       "      <td>0</td>\n",
       "      <td>26</td>\n",
       "      <td>43000</td>\n",
       "      <td>0</td>\n",
       "    </tr>\n",
       "    <tr>\n",
       "      <th>3</th>\n",
       "      <td>15603246</td>\n",
       "      <td>0</td>\n",
       "      <td>27</td>\n",
       "      <td>57000</td>\n",
       "      <td>0</td>\n",
       "    </tr>\n",
       "    <tr>\n",
       "      <th>4</th>\n",
       "      <td>15804002</td>\n",
       "      <td>1</td>\n",
       "      <td>19</td>\n",
       "      <td>76000</td>\n",
       "      <td>0</td>\n",
       "    </tr>\n",
       "  </tbody>\n",
       "</table>\n",
       "</div>"
      ],
      "text/plain": [
       "    User ID  Gender  Age  EstimatedSalary  Purchased\n",
       "0  15624510       1   19            19000          0\n",
       "1  15810944       1   35            20000          0\n",
       "2  15668575       0   26            43000          0\n",
       "3  15603246       0   27            57000          0\n",
       "4  15804002       1   19            76000          0"
      ]
     },
     "execution_count": 241,
     "metadata": {},
     "output_type": "execute_result"
    }
   ],
   "source": [
    "cust.head()"
   ]
  },
  {
   "cell_type": "code",
   "execution_count": 184,
   "id": "03a801c8",
   "metadata": {},
   "outputs": [],
   "source": [
    "X = cust.iloc[:,1:-1]"
   ]
  },
  {
   "cell_type": "code",
   "execution_count": 185,
   "id": "a210ce5e",
   "metadata": {},
   "outputs": [
    {
     "data": {
      "text/html": [
       "<div>\n",
       "<style scoped>\n",
       "    .dataframe tbody tr th:only-of-type {\n",
       "        vertical-align: middle;\n",
       "    }\n",
       "\n",
       "    .dataframe tbody tr th {\n",
       "        vertical-align: top;\n",
       "    }\n",
       "\n",
       "    .dataframe thead th {\n",
       "        text-align: right;\n",
       "    }\n",
       "</style>\n",
       "<table border=\"1\" class=\"dataframe\">\n",
       "  <thead>\n",
       "    <tr style=\"text-align: right;\">\n",
       "      <th></th>\n",
       "      <th>Gender</th>\n",
       "      <th>Age</th>\n",
       "      <th>EstimatedSalary</th>\n",
       "    </tr>\n",
       "  </thead>\n",
       "  <tbody>\n",
       "    <tr>\n",
       "      <th>0</th>\n",
       "      <td>1</td>\n",
       "      <td>19</td>\n",
       "      <td>19000</td>\n",
       "    </tr>\n",
       "    <tr>\n",
       "      <th>1</th>\n",
       "      <td>1</td>\n",
       "      <td>35</td>\n",
       "      <td>20000</td>\n",
       "    </tr>\n",
       "    <tr>\n",
       "      <th>2</th>\n",
       "      <td>0</td>\n",
       "      <td>26</td>\n",
       "      <td>43000</td>\n",
       "    </tr>\n",
       "    <tr>\n",
       "      <th>3</th>\n",
       "      <td>0</td>\n",
       "      <td>27</td>\n",
       "      <td>57000</td>\n",
       "    </tr>\n",
       "    <tr>\n",
       "      <th>4</th>\n",
       "      <td>1</td>\n",
       "      <td>19</td>\n",
       "      <td>76000</td>\n",
       "    </tr>\n",
       "  </tbody>\n",
       "</table>\n",
       "</div>"
      ],
      "text/plain": [
       "   Gender  Age  EstimatedSalary\n",
       "0       1   19            19000\n",
       "1       1   35            20000\n",
       "2       0   26            43000\n",
       "3       0   27            57000\n",
       "4       1   19            76000"
      ]
     },
     "execution_count": 185,
     "metadata": {},
     "output_type": "execute_result"
    }
   ],
   "source": [
    "X.head()"
   ]
  },
  {
   "cell_type": "code",
   "execution_count": 186,
   "id": "0565e025",
   "metadata": {},
   "outputs": [],
   "source": [
    "Y = cust['Purchased']"
   ]
  },
  {
   "cell_type": "code",
   "execution_count": 140,
   "id": "d861294d",
   "metadata": {},
   "outputs": [],
   "source": [
    "import statsmodels.formula.api as smf \n",
    "import statsmodels.api as sm"
   ]
  },
  {
   "cell_type": "code",
   "execution_count": 275,
   "id": "1bba1744",
   "metadata": {},
   "outputs": [],
   "source": [
    "formula = 'Y ~ X'\n",
    "model1 = smf.glm(formula = formula, data=cust, family = sm.families.Binomial())\n",
    "result = model1.fit()\n",
    "#model = smf.glm(formulae = formulae, dta = mydara)"
   ]
  },
  {
   "cell_type": "code",
   "execution_count": 276,
   "id": "28105915",
   "metadata": {},
   "outputs": [
    {
     "data": {
      "text/html": [
       "<table class=\"simpletable\">\n",
       "<caption>Generalized Linear Model Regression Results</caption>\n",
       "<tr>\n",
       "  <th>Dep. Variable:</th>           <td>Y</td>        <th>  No. Observations:  </th>  <td>   400</td> \n",
       "</tr>\n",
       "<tr>\n",
       "  <th>Model:</th>                  <td>GLM</td>       <th>  Df Residuals:      </th>  <td>   396</td> \n",
       "</tr>\n",
       "<tr>\n",
       "  <th>Model Family:</th>        <td>Binomial</td>     <th>  Df Model:          </th>  <td>     3</td> \n",
       "</tr>\n",
       "<tr>\n",
       "  <th>Link Function:</th>         <td>Logit</td>      <th>  Scale:             </th> <td>  1.0000</td>\n",
       "</tr>\n",
       "<tr>\n",
       "  <th>Method:</th>                <td>IRLS</td>       <th>  Log-Likelihood:    </th> <td> -137.92</td>\n",
       "</tr>\n",
       "<tr>\n",
       "  <th>Date:</th>            <td>Sun, 22 Jan 2023</td> <th>  Deviance:          </th> <td>  275.84</td>\n",
       "</tr>\n",
       "<tr>\n",
       "  <th>Time:</th>                <td>16:42:05</td>     <th>  Pearson chi2:      </th>  <td>  459.</td> \n",
       "</tr>\n",
       "<tr>\n",
       "  <th>No. Iterations:</th>          <td>6</td>        <th>  Pseudo R-squ. (CS):</th>  <td>0.4590</td> \n",
       "</tr>\n",
       "<tr>\n",
       "  <th>Covariance Type:</th>     <td>nonrobust</td>    <th>                     </th>     <td> </td>   \n",
       "</tr>\n",
       "</table>\n",
       "<table class=\"simpletable\">\n",
       "<tr>\n",
       "      <td></td>         <th>coef</th>     <th>std err</th>      <th>z</th>      <th>P>|z|</th>  <th>[0.025</th>    <th>0.975]</th>  \n",
       "</tr>\n",
       "<tr>\n",
       "  <th>Intercept</th> <td>  -12.7836</td> <td>    1.359</td> <td>   -9.405</td> <td> 0.000</td> <td>  -15.448</td> <td>  -10.120</td>\n",
       "</tr>\n",
       "<tr>\n",
       "  <th>X[0]</th>      <td>    0.3338</td> <td>    0.305</td> <td>    1.094</td> <td> 0.274</td> <td>   -0.264</td> <td>    0.932</td>\n",
       "</tr>\n",
       "<tr>\n",
       "  <th>X[1]</th>      <td>    0.2370</td> <td>    0.026</td> <td>    8.984</td> <td> 0.000</td> <td>    0.185</td> <td>    0.289</td>\n",
       "</tr>\n",
       "<tr>\n",
       "  <th>X[2]</th>      <td> 3.644e-05</td> <td> 5.47e-06</td> <td>    6.659</td> <td> 0.000</td> <td> 2.57e-05</td> <td> 4.72e-05</td>\n",
       "</tr>\n",
       "</table>"
      ],
      "text/plain": [
       "<class 'statsmodels.iolib.summary.Summary'>\n",
       "\"\"\"\n",
       "                 Generalized Linear Model Regression Results                  \n",
       "==============================================================================\n",
       "Dep. Variable:                      Y   No. Observations:                  400\n",
       "Model:                            GLM   Df Residuals:                      396\n",
       "Model Family:                Binomial   Df Model:                            3\n",
       "Link Function:                  Logit   Scale:                          1.0000\n",
       "Method:                          IRLS   Log-Likelihood:                -137.92\n",
       "Date:                Sun, 22 Jan 2023   Deviance:                       275.84\n",
       "Time:                        16:42:05   Pearson chi2:                     459.\n",
       "No. Iterations:                     6   Pseudo R-squ. (CS):             0.4590\n",
       "Covariance Type:            nonrobust                                         \n",
       "==============================================================================\n",
       "                 coef    std err          z      P>|z|      [0.025      0.975]\n",
       "------------------------------------------------------------------------------\n",
       "Intercept    -12.7836      1.359     -9.405      0.000     -15.448     -10.120\n",
       "X[0]           0.3338      0.305      1.094      0.274      -0.264       0.932\n",
       "X[1]           0.2370      0.026      8.984      0.000       0.185       0.289\n",
       "X[2]        3.644e-05   5.47e-06      6.659      0.000    2.57e-05    4.72e-05\n",
       "==============================================================================\n",
       "\"\"\""
      ]
     },
     "execution_count": 276,
     "metadata": {},
     "output_type": "execute_result"
    }
   ],
   "source": [
    "result.summary()\n",
    "#1- residualdeviance/nulldeviance"
   ]
  },
  {
   "cell_type": "code",
   "execution_count": 267,
   "id": "8a19ba4d",
   "metadata": {},
   "outputs": [
    {
     "data": {
      "text/plain": [
       "0.4711453660032978"
      ]
     },
     "execution_count": 267,
     "metadata": {},
     "output_type": "execute_result"
    }
   ],
   "source": [
    "#calculating using loglikelihood\n",
    "1- (137.92/ 260.79)"
   ]
  },
  {
   "cell_type": "code",
   "execution_count": 277,
   "id": "c0bc6ca4",
   "metadata": {},
   "outputs": [
    {
     "data": {
      "text/plain": [
       "0.471132049654851"
      ]
     },
     "execution_count": 277,
     "metadata": {},
     "output_type": "execute_result"
    }
   ],
   "source": [
    "1- result.deviance/result.null_deviance #calculated using deviance"
   ]
  },
  {
   "cell_type": "code",
   "execution_count": 278,
   "id": "b7f504c2",
   "metadata": {},
   "outputs": [
    {
     "data": {
      "text/html": [
       "<table class=\"simpletable\">\n",
       "<caption>Generalized Linear Model Regression Results</caption>\n",
       "<tr>\n",
       "  <th>Dep. Variable:</th>           <td>Y</td>        <th>  No. Observations:  </th>   <td>   400</td>  \n",
       "</tr>\n",
       "<tr>\n",
       "  <th>Model:</th>                  <td>GLM</td>       <th>  Df Residuals:      </th>   <td>   399</td>  \n",
       "</tr>\n",
       "<tr>\n",
       "  <th>Model Family:</th>        <td>Binomial</td>     <th>  Df Model:          </th>   <td>     0</td>  \n",
       "</tr>\n",
       "<tr>\n",
       "  <th>Link Function:</th>         <td>Logit</td>      <th>  Scale:             </th>  <td>  1.0000</td> \n",
       "</tr>\n",
       "<tr>\n",
       "  <th>Method:</th>                <td>IRLS</td>       <th>  Log-Likelihood:    </th>  <td> -260.79</td> \n",
       "</tr>\n",
       "<tr>\n",
       "  <th>Date:</th>            <td>Sun, 22 Jan 2023</td> <th>  Deviance:          </th>  <td>  521.57</td> \n",
       "</tr>\n",
       "<tr>\n",
       "  <th>Time:</th>                <td>16:43:01</td>     <th>  Pearson chi2:      </th>   <td>  400.</td>  \n",
       "</tr>\n",
       "<tr>\n",
       "  <th>No. Iterations:</th>         <td>100</td>       <th>  Pseudo R-squ. (CS):</th> <td>-1.752e-07</td>\n",
       "</tr>\n",
       "<tr>\n",
       "  <th>Covariance Type:</th>     <td>nonrobust</td>    <th>                     </th>      <td> </td>    \n",
       "</tr>\n",
       "</table>\n",
       "<table class=\"simpletable\">\n",
       "<tr>\n",
       "      <td></td>         <th>coef</th>     <th>std err</th>      <th>z</th>      <th>P>|z|</th>  <th>[0.025</th>    <th>0.975]</th>  \n",
       "</tr>\n",
       "<tr>\n",
       "  <th>Intercept</th> <td>   -0.2927</td> <td>    0.052</td> <td>   -5.673</td> <td> 0.000</td> <td>   -0.394</td> <td>   -0.192</td>\n",
       "</tr>\n",
       "<tr>\n",
       "  <th>X2</th>        <td>   -0.2927</td> <td>    0.052</td> <td>   -5.673</td> <td> 0.000</td> <td>   -0.394</td> <td>   -0.192</td>\n",
       "</tr>\n",
       "</table>"
      ],
      "text/plain": [
       "<class 'statsmodels.iolib.summary.Summary'>\n",
       "\"\"\"\n",
       "                 Generalized Linear Model Regression Results                  \n",
       "==============================================================================\n",
       "Dep. Variable:                      Y   No. Observations:                  400\n",
       "Model:                            GLM   Df Residuals:                      399\n",
       "Model Family:                Binomial   Df Model:                            0\n",
       "Link Function:                  Logit   Scale:                          1.0000\n",
       "Method:                          IRLS   Log-Likelihood:                -260.79\n",
       "Date:                Sun, 22 Jan 2023   Deviance:                       521.57\n",
       "Time:                        16:43:01   Pearson chi2:                     400.\n",
       "No. Iterations:                   100   Pseudo R-squ. (CS):         -1.752e-07\n",
       "Covariance Type:            nonrobust                                         \n",
       "==============================================================================\n",
       "                 coef    std err          z      P>|z|      [0.025      0.975]\n",
       "------------------------------------------------------------------------------\n",
       "Intercept     -0.2927      0.052     -5.673      0.000      -0.394      -0.192\n",
       "X2            -0.2927      0.052     -5.673      0.000      -0.394      -0.192\n",
       "==============================================================================\n",
       "\"\"\""
      ]
     },
     "execution_count": 278,
     "metadata": {},
     "output_type": "execute_result"
    }
   ],
   "source": [
    "#NULL MODEL\n",
    "cust['intercept'] = 1\n",
    "X2= cust['intercept']\n",
    "formula = 'Y ~ X2'\n",
    "model1_null = smf.glm(formula = formula, data=cust,family = sm.families.Binomial())\n",
    "result = model1_null.fit()\n",
    "result.summary()\n",
    "#null deviance 521.57\n",
    "#log likelihood of null model = -260.79"
   ]
  },
  {
   "cell_type": "code",
   "execution_count": 268,
   "id": "64e6eb48",
   "metadata": {},
   "outputs": [
    {
     "data": {
      "text/html": [
       "<table class=\"simpletable\">\n",
       "<caption>Generalized Linear Model Regression Results</caption>\n",
       "<tr>\n",
       "  <th>Dep. Variable:</th>           <td>Y</td>        <th>  No. Observations:  </th>  <td>   400</td> \n",
       "</tr>\n",
       "<tr>\n",
       "  <th>Model:</th>                  <td>GLM</td>       <th>  Df Residuals:      </th>  <td>   398</td> \n",
       "</tr>\n",
       "<tr>\n",
       "  <th>Model Family:</th>        <td>Binomial</td>     <th>  Df Model:          </th>  <td>     1</td> \n",
       "</tr>\n",
       "<tr>\n",
       "  <th>Link Function:</th>         <td>Logit</td>      <th>  Scale:             </th> <td>  1.0000</td>\n",
       "</tr>\n",
       "<tr>\n",
       "  <th>Method:</th>                <td>IRLS</td>       <th>  Log-Likelihood:    </th> <td> -233.86</td>\n",
       "</tr>\n",
       "<tr>\n",
       "  <th>Date:</th>            <td>Sun, 22 Jan 2023</td> <th>  Deviance:          </th> <td>  467.73</td>\n",
       "</tr>\n",
       "<tr>\n",
       "  <th>Time:</th>                <td>16:39:31</td>     <th>  Pearson chi2:      </th>  <td>  426.</td> \n",
       "</tr>\n",
       "<tr>\n",
       "  <th>No. Iterations:</th>          <td>4</td>        <th>  Pseudo R-squ. (CS):</th>  <td>0.1259</td> \n",
       "</tr>\n",
       "<tr>\n",
       "  <th>Covariance Type:</th>     <td>nonrobust</td>    <th>                     </th>     <td> </td>   \n",
       "</tr>\n",
       "</table>\n",
       "<table class=\"simpletable\">\n",
       "<tr>\n",
       "      <td></td>         <th>coef</th>     <th>std err</th>      <th>z</th>      <th>P>|z|</th>  <th>[0.025</th>    <th>0.975]</th>  \n",
       "</tr>\n",
       "<tr>\n",
       "  <th>Intercept</th> <td>   -2.3227</td> <td>    0.286</td> <td>   -8.134</td> <td> 0.000</td> <td>   -2.882</td> <td>   -1.763</td>\n",
       "</tr>\n",
       "<tr>\n",
       "  <th>X4</th>        <td> 2.387e-05</td> <td> 3.52e-06</td> <td>    6.790</td> <td> 0.000</td> <td>  1.7e-05</td> <td> 3.08e-05</td>\n",
       "</tr>\n",
       "</table>"
      ],
      "text/plain": [
       "<class 'statsmodels.iolib.summary.Summary'>\n",
       "\"\"\"\n",
       "                 Generalized Linear Model Regression Results                  \n",
       "==============================================================================\n",
       "Dep. Variable:                      Y   No. Observations:                  400\n",
       "Model:                            GLM   Df Residuals:                      398\n",
       "Model Family:                Binomial   Df Model:                            1\n",
       "Link Function:                  Logit   Scale:                          1.0000\n",
       "Method:                          IRLS   Log-Likelihood:                -233.86\n",
       "Date:                Sun, 22 Jan 2023   Deviance:                       467.73\n",
       "Time:                        16:39:31   Pearson chi2:                     426.\n",
       "No. Iterations:                     4   Pseudo R-squ. (CS):             0.1259\n",
       "Covariance Type:            nonrobust                                         \n",
       "==============================================================================\n",
       "                 coef    std err          z      P>|z|      [0.025      0.975]\n",
       "------------------------------------------------------------------------------\n",
       "Intercept     -2.3227      0.286     -8.134      0.000      -2.882      -1.763\n",
       "X4          2.387e-05   3.52e-06      6.790      0.000     1.7e-05    3.08e-05\n",
       "==============================================================================\n",
       "\"\"\""
      ]
     },
     "execution_count": 268,
     "metadata": {},
     "output_type": "execute_result"
    }
   ],
   "source": [
    "#another model with just estimated salary as independent variable\n",
    "\n",
    "X4 = cust[ 'EstimatedSalary']\n",
    "formula = 'Y~X4'\n",
    "model2 = smf.glm(formula = formula, data=cust,family = sm.families.Binomial())\n",
    "result = model2.fit()\n",
    "result.summary()\n",
    "#psuedo r2 of model very low in compared to first model"
   ]
  },
  {
   "cell_type": "code",
   "execution_count": 269,
   "id": "f183fa0f",
   "metadata": {},
   "outputs": [
    {
     "data": {
      "text/plain": [
       "467.7262027228761"
      ]
     },
     "execution_count": 269,
     "metadata": {},
     "output_type": "execute_result"
    }
   ],
   "source": [
    "result.deviance"
   ]
  },
  {
   "cell_type": "code",
   "execution_count": 270,
   "id": "f2c71f51",
   "metadata": {},
   "outputs": [
    {
     "data": {
      "text/plain": [
       "521.5729657959091"
      ]
     },
     "execution_count": 270,
     "metadata": {},
     "output_type": "execute_result"
    }
   ],
   "source": [
    "result.null_deviance"
   ]
  },
  {
   "cell_type": "code",
   "execution_count": 284,
   "id": "b036ca70",
   "metadata": {},
   "outputs": [
    {
     "data": {
      "text/plain": [
       "0.10323917573232344"
      ]
     },
     "execution_count": 284,
     "metadata": {},
     "output_type": "execute_result"
    }
   ],
   "source": [
    "1- (467.7262027228761/521.5729657959091)"
   ]
  },
  {
   "cell_type": "markdown",
   "id": "3039029a",
   "metadata": {},
   "source": [
    "# final model"
   ]
  },
  {
   "cell_type": "code",
   "execution_count": 285,
   "id": "82f7b2d8",
   "metadata": {},
   "outputs": [
    {
     "data": {
      "text/html": [
       "<table class=\"simpletable\">\n",
       "<caption>Generalized Linear Model Regression Results</caption>\n",
       "<tr>\n",
       "  <th>Dep. Variable:</th>           <td>Y</td>        <th>  No. Observations:  </th>  <td>   400</td> \n",
       "</tr>\n",
       "<tr>\n",
       "  <th>Model:</th>                  <td>GLM</td>       <th>  Df Residuals:      </th>  <td>   397</td> \n",
       "</tr>\n",
       "<tr>\n",
       "  <th>Model Family:</th>        <td>Binomial</td>     <th>  Df Model:          </th>  <td>     2</td> \n",
       "</tr>\n",
       "<tr>\n",
       "  <th>Link Function:</th>         <td>Logit</td>      <th>  Scale:             </th> <td>  1.0000</td>\n",
       "</tr>\n",
       "<tr>\n",
       "  <th>Method:</th>                <td>IRLS</td>       <th>  Log-Likelihood:    </th> <td> -138.53</td>\n",
       "</tr>\n",
       "<tr>\n",
       "  <th>Date:</th>            <td>Sun, 22 Jan 2023</td> <th>  Deviance:          </th> <td>  277.05</td>\n",
       "</tr>\n",
       "<tr>\n",
       "  <th>Time:</th>                <td>17:02:02</td>     <th>  Pearson chi2:      </th>  <td>  467.</td> \n",
       "</tr>\n",
       "<tr>\n",
       "  <th>No. Iterations:</th>          <td>6</td>        <th>  Pseudo R-squ. (CS):</th>  <td>0.4574</td> \n",
       "</tr>\n",
       "<tr>\n",
       "  <th>Covariance Type:</th>     <td>nonrobust</td>    <th>                     </th>     <td> </td>   \n",
       "</tr>\n",
       "</table>\n",
       "<table class=\"simpletable\">\n",
       "<tr>\n",
       "      <td></td>         <th>coef</th>     <th>std err</th>      <th>z</th>      <th>P>|z|</th>  <th>[0.025</th>    <th>0.975]</th>  \n",
       "</tr>\n",
       "<tr>\n",
       "  <th>Intercept</th> <td>  -12.4340</td> <td>    1.300</td> <td>   -9.566</td> <td> 0.000</td> <td>  -14.982</td> <td>   -9.886</td>\n",
       "</tr>\n",
       "<tr>\n",
       "  <th>X4[0]</th>     <td>  3.59e-05</td> <td> 5.43e-06</td> <td>    6.613</td> <td> 0.000</td> <td> 2.53e-05</td> <td> 4.65e-05</td>\n",
       "</tr>\n",
       "<tr>\n",
       "  <th>X4[1]</th>     <td>    0.2335</td> <td>    0.026</td> <td>    9.013</td> <td> 0.000</td> <td>    0.183</td> <td>    0.284</td>\n",
       "</tr>\n",
       "</table>"
      ],
      "text/plain": [
       "<class 'statsmodels.iolib.summary.Summary'>\n",
       "\"\"\"\n",
       "                 Generalized Linear Model Regression Results                  \n",
       "==============================================================================\n",
       "Dep. Variable:                      Y   No. Observations:                  400\n",
       "Model:                            GLM   Df Residuals:                      397\n",
       "Model Family:                Binomial   Df Model:                            2\n",
       "Link Function:                  Logit   Scale:                          1.0000\n",
       "Method:                          IRLS   Log-Likelihood:                -138.53\n",
       "Date:                Sun, 22 Jan 2023   Deviance:                       277.05\n",
       "Time:                        17:02:02   Pearson chi2:                     467.\n",
       "No. Iterations:                     6   Pseudo R-squ. (CS):             0.4574\n",
       "Covariance Type:            nonrobust                                         \n",
       "==============================================================================\n",
       "                 coef    std err          z      P>|z|      [0.025      0.975]\n",
       "------------------------------------------------------------------------------\n",
       "Intercept    -12.4340      1.300     -9.566      0.000     -14.982      -9.886\n",
       "X4[0]        3.59e-05   5.43e-06      6.613      0.000    2.53e-05    4.65e-05\n",
       "X4[1]          0.2335      0.026      9.013      0.000       0.183       0.284\n",
       "==============================================================================\n",
       "\"\"\""
      ]
     },
     "execution_count": 285,
     "metadata": {},
     "output_type": "execute_result"
    }
   ],
   "source": [
    "#another model with just estimated salary and age as independent variable\n",
    "#using glm\n",
    "\n",
    "X4 = cust[[ 'EstimatedSalary', 'Age']]\n",
    "formula = 'Y~X4'\n",
    "model2 = smf.glm(formula = formula, data=cust,family = sm.families.Binomial())\n",
    "result = model2.fit()\n",
    "result.summary()\n",
    "#psuedo r^2 = 0.457\n",
    "#After removing gender, there is not much difference in pseudo r^2 from the first model,\n",
    "#so we choose the simplest model.\n"
   ]
  },
  {
   "cell_type": "code",
   "execution_count": 283,
   "id": "566ae423",
   "metadata": {},
   "outputs": [
    {
     "data": {
      "text/plain": [
       "0.4688156776517184"
      ]
     },
     "execution_count": 283,
     "metadata": {},
     "output_type": "execute_result"
    }
   ],
   "source": [
    "1- result.deviance/result.null_deviance #psued0_r^2"
   ]
  },
  {
   "cell_type": "code",
   "execution_count": 280,
   "id": "a2ac1b49",
   "metadata": {},
   "outputs": [
    {
     "name": "stdout",
     "output_type": "stream",
     "text": [
      "Optimization terminated successfully.\n",
      "         Current function value: 0.346314\n",
      "         Iterations 8\n",
      "                           Logit Regression Results                           \n",
      "==============================================================================\n",
      "Dep. Variable:              Purchased   No. Observations:                  400\n",
      "Model:                          Logit   Df Residuals:                      397\n",
      "Method:                           MLE   Df Model:                            2\n",
      "Date:                Sun, 22 Jan 2023   Pseudo R-squ.:                  0.4688\n",
      "Time:                        16:44:39   Log-Likelihood:                -138.53\n",
      "converged:                       True   LL-Null:                       -260.79\n",
      "Covariance Type:            nonrobust   LLR p-value:                 7.995e-54\n",
      "===================================================================================\n",
      "                      coef    std err          z      P>|z|      [0.025      0.975]\n",
      "-----------------------------------------------------------------------------------\n",
      "Intercept         -12.4340      1.300     -9.566      0.000     -14.982      -9.886\n",
      "Age                 0.2335      0.026      9.013      0.000       0.183       0.284\n",
      "EstimatedSalary   3.59e-05   5.43e-06      6.613      0.000    2.53e-05    4.65e-05\n",
      "===================================================================================\n"
     ]
    }
   ],
   "source": [
    "#alternative- using logit function\n",
    "formula = 'Purchased ~  Age + EstimatedSalary'\n",
    "\n",
    "logistic_model = smf.logit(formula, cust)\n",
    "logistic_result = logistic_model.fit()\n",
    "print(logistic_result.summary())"
   ]
  },
  {
   "cell_type": "markdown",
   "id": "81bf71b6",
   "metadata": {},
   "source": [
    "# Q3 give your interpretation of the final model’s coefficients \n",
    "#(For example, what effect does a positive or negative coefficient\n",
    "#have on the model and so on).\n",
    "\n",
    "#1. We can see the intercept is negative, that means that the estimated probability of purchasing is less than 50% when all independent variables equal zero. \n",
    "\n",
    "#2. One unit increase in age increased log odds by 0.23 amount by holding other independent variables constant i.e the one year increase in age increases odds of purchasing by e^(0.2335) = 1.26, while holding all other independent variables constant.\n",
    "\n",
    "#3. Every one dollar increase in estimated salary increases odds of purchasing by exp(3.59e-05)= 1.0000359 while holding other variables constant.\n"
   ]
  },
  {
   "cell_type": "code",
   "execution_count": 309,
   "id": "b49b33f8",
   "metadata": {},
   "outputs": [
    {
     "data": {
      "text/plain": [
       "1.0000359006444126"
      ]
     },
     "execution_count": 309,
     "metadata": {},
     "output_type": "execute_result"
    }
   ],
   "source": [
    "import math\n",
    "math.exp(3.59e-05)"
   ]
  },
  {
   "cell_type": "markdown",
   "id": "0eeeb7ad",
   "metadata": {},
   "source": [
    "# Q4"
   ]
  },
  {
   "cell_type": "code",
   "execution_count": 298,
   "id": "54f612f1",
   "metadata": {},
   "outputs": [
    {
     "data": {
      "text/plain": [
       "257"
      ]
     },
     "execution_count": 298,
     "metadata": {},
     "output_type": "execute_result"
    }
   ],
   "source": [
    "#not purchased\n",
    "count = (cust['Purchased'] == 0).sum()\n",
    "count"
   ]
  },
  {
   "cell_type": "code",
   "execution_count": 300,
   "id": "548ff5fe",
   "metadata": {},
   "outputs": [
    {
     "data": {
      "text/plain": [
       "143"
      ]
     },
     "execution_count": 300,
     "metadata": {},
     "output_type": "execute_result"
    }
   ],
   "source": [
    "#purchased\n",
    "count = (cust['Purchased'] == 1).sum()\n",
    "count"
   ]
  },
  {
   "cell_type": "code",
   "execution_count": null,
   "id": "e4cc8b35",
   "metadata": {},
   "outputs": [],
   "source": [
    "#We use logisitic regression for classification problems.\n",
    "#Accuracy may not be a good metric to judge a classification model if the data is not balanced.\n",
    "#because as seen above data used for fitting the model is not balanced.\n",
    "#The number of purchased vs not purchased is not equal. \n",
    "#This would lead to introduction of bias in the\n",
    "#model. If model is unable to figure out for a particular data point, then\n",
    "#there are higher chances to be classified as \"not purchased\" rather than \"purchased\". \n",
    "#we can not conclude that accuracy is a good measure without looking at out of sample \n",
    "#performance for this model.\n",
    "\n",
    "#Some alternative metrics that can be used for a logistic regression model: Confusion Matrix\n",
    "# Precision, recall, f1-score, auc-roc curve."
   ]
  },
  {
   "cell_type": "markdown",
   "id": "92b806dd",
   "metadata": {},
   "source": [
    "# Q5 Plot the interactions of the ‘Age’ and ‘Gender’ features with the ‘Purchased’ output."
   ]
  },
  {
   "cell_type": "code",
   "execution_count": 244,
   "id": "20bdeab9",
   "metadata": {},
   "outputs": [],
   "source": [
    "#in simpler words,\n",
    "#does the relationship between purchased and age depend on gender?\n",
    "from statsmodels.graphics.factorplots import interaction_plot"
   ]
  },
  {
   "cell_type": "code",
   "execution_count": 291,
   "id": "5f111eab",
   "metadata": {},
   "outputs": [],
   "source": [
    "df = pd.read_csv(\"/Users/anchalchaudhary/Downloads/customer.csv\")"
   ]
  },
  {
   "cell_type": "code",
   "execution_count": 310,
   "id": "dc624d8d",
   "metadata": {},
   "outputs": [
    {
     "data": {
      "text/plain": [
       "<seaborn.axisgrid.FacetGrid at 0x12fdeafe0>"
      ]
     },
     "execution_count": 310,
     "metadata": {},
     "output_type": "execute_result"
    },
    {
     "data": {
      "image/png": "[encoded data removed]",
      "text/plain": [
       "<Figure size 432.125x360 with 1 Axes>"
      ]
     },
     "metadata": {
      "needs_background": "light"
     },
     "output_type": "display_data"
    }
   ],
   "source": [
    "p = dict(Male=\"#6495ED\", Female=\"#F08080\")\n",
    "s = sns.lmplot(x=\"Age\", y=\"Purchased\", hue=\"Gender\", data=df,\n",
    "               palette=p, y_jitter=.02, logistic=True, truncate=False)\n",
    "\n",
    "s.set(xlim=(0, 80), ylim=(-.05, 1.05))\n",
    "#y axis are the probabilities\n",
    "#yes, clearly relationship between purchased(purchase or not purchase) and age \n",
    "#depends on gender"
   ]
  },
  {
   "cell_type": "markdown",
   "id": "bc92b288",
   "metadata": {},
   "source": [
    "# Q6"
   ]
  },
  {
   "cell_type": "code",
   "execution_count": null,
   "id": "dcce3047",
   "metadata": {},
   "outputs": [],
   "source": [
    "#Plot a: should include interaction terms because from the plot, we can see high income(positive slope) and low income(slightly negative) slopes are in different directions.\n",
    "\n",
    "#plot b: should include the interaction term because from the plot its evident that high income \n",
    "#and low income have different slopes and they also intersect at some point.\n",
    "\n",
    "#Plot c: shouldn't include the interaction term because from the plot its very much evident that high income \n",
    "#and low income have parallel slopes."
   ]
  }
 ],
 "metadata": {
  "kernelspec": {
   "display_name": "Python 3 (ipykernel)",
   "language": "python",
   "name": "python3"
  },
  "language_info": {
   "codemirror_mode": {
    "name": "ipython",
    "version": 3
   },
   "file_extension": ".py",
   "mimetype": "text/x-python",
   "name": "python",
   "nbconvert_exporter": "python",
   "pygments_lexer": "ipython3",
   "version": "3.10.5"
  }
 },
 "nbformat": 4,
 "nbformat_minor": 5
}
